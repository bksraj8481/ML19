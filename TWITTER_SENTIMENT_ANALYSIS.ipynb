{
  "nbformat": 4,
  "nbformat_minor": 0,
  "metadata": {
    "colab": {
      "name": "TWITTER_SENTIMENT_ANALYSIS.ipynb",
      "version": "0.3.2",
      "provenance": []
    },
    "kernelspec": {
      "name": "python3",
      "display_name": "Python 3"
    }
  },
  "cells": [
    {
      "cell_type": "code",
      "metadata": {
        "id": "_09zaWKaOoxM",
        "colab_type": "code",
        "colab": {}
      },
      "source": [
        "import tweepy\n",
        "import matplotlib.pyplot as plt\n",
        "import time\n",
        "from textblob import TextBlob"
      ],
      "execution_count": 0,
      "outputs": []
    },
    {
      "cell_type": "code",
      "metadata": {
        "id": "wivnBLxuQMTS",
        "colab_type": "code",
        "colab": {}
      },
      "source": [
        "  consumer_key = 'nas5dxl0Yaf6KDFfgA4CJHaVZ'\n",
        "  consumer_sec = 'prm6uGpSbOP4TVKaseiExxucWd2nhiyyd0uvp9gScTmc92pGzs'\n",
        "  access_key = '4579507037-zGTcqC0aG5tx7VKrPW0TuGzjm8OmZS80cwDb3QE'\n",
        "  access_sec = '9I99KxruIXRNJpzbN25gOTwV3z7ueGZpQXCb4amYpAEkS'"
      ],
      "execution_count": 0,
      "outputs": []
    },
    {
      "cell_type": "code",
      "metadata": {
        "id": "BL60WdlZTTf-",
        "colab_type": "code",
        "colab": {}
      },
      "source": [
        "# tweepy explor --\n",
        "#connecting to jump server of twitter \n",
        "auth = tweepy.OAuthHandler(consumer_key, consumer_sec)"
      ],
      "execution_count": 0,
      "outputs": []
    },
    {
      "cell_type": "code",
      "metadata": {
        "id": "7IKT9_NrXCLq",
        "colab_type": "code",
        "colab": {}
      },
      "source": [
        "    auth.set_access_token(access_key, access_sec)"
      ],
      "execution_count": 0,
      "outputs": []
    },
    {
      "cell_type": "code",
      "metadata": {
        "id": "TOzHMpH-XJU8",
        "colab_type": "code",
        "colab": {}
      },
      "source": [
        "    api_connect = tweepy.API(auth)"
      ],
      "execution_count": 0,
      "outputs": []
    },
    {
      "cell_type": "code",
      "metadata": {
        "id": "i5xEciaLXSKm",
        "colab_type": "code",
        "colab": {}
      },
      "source": [
        "    tweet_data = api_connect.search('', count=2000)"
      ],
      "execution_count": 0,
      "outputs": []
    },
    {
      "cell_type": "code",
      "metadata": {
        "id": "T8Z5UZB_XZec",
        "colab_type": "code",
        "colab": {}
      },
      "source": [
        "    pos = 0\n",
        "    neg = 0\n",
        "    neu = 0\n",
        "    for tweet in tweet_data:\n",
        "        analysis = TextBlob(tweet.text)\n",
        "    #     print(analysis.sentiment)\n",
        "        if analysis.sentiment.polarity > 0:\n",
        "    #         print('Positive')\n",
        "            pos = pos + 1\n",
        "        elif analysis.sentiment.polarity < 0:\n",
        "    #         print('Negative')\n",
        "            neg = neg + 1\n",
        "        else:\n",
        "    #         print('Neutral')\n",
        "             neu = neu + 1"
      ],
      "execution_count": 0,
      "outputs": []
    },
    {
      "cell_type": "code",
      "metadata": {
        "id": "Ip6PRZP7X8dm",
        "colab_type": "code",
        "colab": {
          "base_uri": "https://localhost:8080/",
          "height": 521
        },
        "outputId": "ed83b249-b13d-415e-93c2-139cb2441d38"
      },
      "source": [
        "    plt.xlabel('Tags')\n",
        "    plt.ylabel('Polarity')\n",
        "    plt.bar(['pos','neg','neu'],[pos,neg,neu])\n",
        "    plt.show()\n",
        "    plt.pie([pos,neg,neu],labels=['pos','neg','neu'],autopct='%1.1f%%')\n",
        "    plt.show()"
      ],
      "execution_count": 58,
      "outputs": [
        {
          "output_type": "display_data",
          "data": {
            "image/png": "[encoded data removed]",
            "text/plain": [
              "<Figure size 432x288 with 1 Axes>"
            ]
          },
          "metadata": {
            "tags": []
          }
        },
        {
          "output_type": "display_data",
          "data": {
            "image/png": "[encoded data removed]",
            "text/plain": [
              "<Figure size 432x288 with 1 Axes>"
            ]
          },
          "metadata": {
            "tags": []
          }
        }
      ]
    },
    {
      "cell_type": "code",
      "metadata": {
        "id": "vm-RLmtlZCIO",
        "colab_type": "code",
        "colab": {}
      },
      "source": [
        ""
      ],
      "execution_count": 0,
      "outputs": []
    }
  ]
}